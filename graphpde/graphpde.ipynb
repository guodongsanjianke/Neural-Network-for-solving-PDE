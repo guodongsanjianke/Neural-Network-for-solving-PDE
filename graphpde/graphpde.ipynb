{
 "cells": [
  {
   "cell_type": "code",
   "execution_count": 1,
   "metadata": {},
   "outputs": [],
   "source": [
    "import pickle\n",
    "import numpy as np\n",
    "import torch\n",
    "from torch_geometric.data import Data\n",
    "import matplotlib.tri as mtric"
   ]
  },
  {
   "cell_type": "code",
   "execution_count": 2,
   "metadata": {},
   "outputs": [],
   "source": [
    "from scipy.spatial import Delaunay"
   ]
  },
  {
   "cell_type": "code",
   "execution_count": 3,
   "metadata": {},
   "outputs": [],
   "source": [
    "def read_pickle(keys, path=\"./\"):\n",
    "    data_dict = {}\n",
    "    for key in keys:\n",
    "        with open(path+key+\".pkl\", \"rb\") as f:\n",
    "            data_dict[key] = pickle.load(f)\n",
    "    return data_dict"
   ]
  },
  {
   "cell_type": "code",
   "execution_count": 4,
   "metadata": {},
   "outputs": [],
   "source": [
    "def neighbors_from_delaunay(tri):\n",
    "    \"\"\"Returns ndarray of shape (N, *) with indices of neigbors for each node.\n",
    "    N is the number of nodes.\n",
    "    \"\"\"\n",
    "    neighbors_tri = tri.vertex_neighbor_vertices\n",
    "    neighbors = []\n",
    "    for i in range(len(neighbors_tri[0])-1):\n",
    "        curr_node_neighbors = []\n",
    "        for j in range(neighbors_tri[0][i], neighbors_tri[0][i+1]):\n",
    "            curr_node_neighbors.append(neighbors_tri[1][j])\n",
    "        neighbors.append(curr_node_neighbors)\n",
    "    return neighbors"
   ]
  },
  {
   "cell_type": "code",
   "execution_count": 5,
   "metadata": {},
   "outputs": [],
   "source": [
    "def is_near(x, y, eps=1.0e-16):\n",
    "    x = np.array(x)\n",
    "    y = np.array(y)\n",
    "    for yi in y:\n",
    "        if np.linalg.norm(x - yi) < eps:\n",
    "            return True\n",
    "    return False"
   ]
  },
  {
   "cell_type": "code",
   "execution_count": 6,
   "metadata": {},
   "outputs": [],
   "source": [
    "def generate_torchgeom_dataset(data):\n",
    "    \"\"\"Returns dataset that can be used to train our model.\n",
    "    \n",
    "    Args:\n",
    "        data (dict): Data dictionary with keys t, x, u.\n",
    "    Returns:\n",
    "        dataset (list): Array of torchgeometric Data objects.\n",
    "    \"\"\"\n",
    "\n",
    "    n_sims = data['u'].shape[0]\n",
    "    dataset = []\n",
    "\n",
    "    for sim_ind in range(n_sims):\n",
    "        print(\"{} / {}\".format(sim_ind+1, n_sims))\n",
    "        \n",
    "        x = data['x'][sim_ind]\n",
    "        tri = Delaunay(x)\n",
    "        neighbors = neighbors_from_delaunay(tri)\n",
    "\n",
    "        # Find periodic couples and merge their neighborhoods\n",
    "        origin_node = 0\n",
    "        corner_nodes = []\n",
    "        hor_couples = []\n",
    "        vert_couples = []\n",
    "        eps = 1.0e-6\n",
    "\n",
    "        b = x.ravel().max()  # domain size\n",
    "\n",
    "        for i in range(x.shape[0]):\n",
    "            if is_near(x[i], [[b, 0], [0, b], [b, b]]):\n",
    "                corner_nodes.append(i)\n",
    "            elif is_near(x[i], [[0, 0]]):\n",
    "                origin_node = i\n",
    "            elif abs(x[i, 0]) < eps:  # left boundary\n",
    "                for j in range(x.shape[0]):\n",
    "                    if abs(x[j, 0] - b) < eps and abs(x[j, 1] - x[i, 1]) < eps:\n",
    "                        hor_couples.append([i, j])\n",
    "            elif abs(x[i, 1]) < eps:  # bottom boundary\n",
    "                for j in range(x.shape[0]):\n",
    "                    if abs(x[j, 1] - b) < eps and abs(x[j, 0] - x[i, 0]) < eps:\n",
    "                        vert_couples.append([i, j])\n",
    "\n",
    "        remove_nodes = []\n",
    "\n",
    "        # Merge corners\n",
    "        for i in corner_nodes:\n",
    "            neighbors[origin_node].extend(neighbors[i])\n",
    "            remove_nodes.append(i)\n",
    "\n",
    "        # Merge horizontal couples\n",
    "        for i, j in hor_couples:\n",
    "            neighbors[i].extend(neighbors[j])\n",
    "            remove_nodes.append(j)\n",
    "\n",
    "        # Merge vertical couples\n",
    "        for i, j in vert_couples:\n",
    "            neighbors[i].extend(neighbors[j])\n",
    "            remove_nodes.append(j)\n",
    "\n",
    "        use_nodes = list(set(range(len(x))) - set(remove_nodes))\n",
    "\n",
    "        # Remove right and top boundaries\n",
    "        neighbors = np.array(neighbors, dtype=np.object)[use_nodes]\n",
    "\n",
    "        # Rewrite indices of the removed nodes\n",
    "        map_domain = corner_nodes + [x[1] for x in hor_couples] + [x[1] for x in vert_couples]\n",
    "        map_codomain = [origin_node]*3 + [x[0] for x in hor_couples] + [x[0] for x in vert_couples]\n",
    "        map_inds = dict(zip(map_domain, map_codomain))\n",
    "\n",
    "        for i in range(len(neighbors)):\n",
    "            for j in range(len(neighbors[i])):\n",
    "                if neighbors[i][j] in remove_nodes:\n",
    "                    neighbors[i][j] = map_inds[neighbors[i][j]]\n",
    "            neighbors[i] = list(set(neighbors[i]))  # remove duplicates\n",
    "\n",
    "        # Reset indices\n",
    "        map_inds = dict(zip(use_nodes, range(len(use_nodes))))\n",
    "\n",
    "        for i in range(len(neighbors)):\n",
    "            for j in range(len(neighbors[i])):\n",
    "                neighbors[i][j] = map_inds[neighbors[i][j]]\n",
    "\n",
    "        # ...\n",
    "        edge_index = []\n",
    "        for i, _ in enumerate(neighbors):\n",
    "            for _, neighbor in enumerate(neighbors[i]):\n",
    "                if i == neighbor:\n",
    "                    continue\n",
    "                edge = [i, neighbor]\n",
    "                edge_index.append(edge)\n",
    "        edge_index = np.array(edge_index).T\n",
    "\n",
    "        # coords_use = data['x'][sim_ind, use_nodes]\n",
    "        # coords_rem = data['x'][sim_ind, remove_nodes]\n",
    "        # plt.scatter(coords_use[:, 0], coords_use[:, 1], s=3)\n",
    "        # plt.scatter(coords_rem[:, 0], coords_rem[:, 1], s=3)\n",
    "        # plt.savefig(\"tmp.png\")\n",
    "        # print(qwe)\n",
    "        \n",
    "        n = None\n",
    "        print(f\"generate_torchgeom_dataset() -> using {n} steps.\")\n",
    "        tg_data = Data(\n",
    "            x=torch.Tensor(data['u'][sim_ind, 0, use_nodes, :]),\n",
    "            edge_index=torch.Tensor(edge_index).long(),\n",
    "            y=torch.Tensor(data['u'][sim_ind][0:n, use_nodes]).transpose(0, 1),\n",
    "            pos=torch.Tensor(data['x'][sim_ind, use_nodes]),\n",
    "            t=torch.Tensor(data['t'][sim_ind][0:n]),\n",
    "        )\n",
    "        \n",
    "        dataset.append(tg_data)\n",
    "\n",
    "    return dataset"
   ]
  },
  {
   "cell_type": "code",
   "execution_count": 7,
   "metadata": {},
   "outputs": [],
   "source": [
    "def get_parameters_count(model):\n",
    "    n_params = sum(p.numel() for p in model.parameters() if p.requires_grad)\n",
    "    return n_params"
   ]
  },
  {
   "cell_type": "code",
   "execution_count": 8,
   "metadata": {},
   "outputs": [],
   "source": [
    "def weights_init(m):\n",
    "    if isinstance(m, torch.nn.Linear):\n",
    "        torch.nn.init.xavier_normal_(m.weight.data, gain=1.66666667)\n",
    "        torch.nn.init.zeros_(m.bias.data)\n"
   ]
  },
  {
   "cell_type": "code",
   "execution_count": 9,
   "metadata": {},
   "outputs": [],
   "source": [
    "def get_warmup_scheduler(a):\n",
    "    def scheduler(epoch):\n",
    "        if epoch <= a:\n",
    "            return epoch * 1.0 / a\n",
    "        else:\n",
    "            return 1.0\n",
    "    return scheduler\n"
   ]
  },
  {
   "cell_type": "code",
   "execution_count": 10,
   "metadata": {},
   "outputs": [],
   "source": [
    "def plot_graph(coords):\n",
    "    tri = Delaunay(coords)\n",
    "    plt.triplot(coords[:, 0], coords[:, 1], tri.simplices.copy())\n",
    "    plt.plot(coords[:, 0], coords[:, 1], 'o')\n",
    "    plt.hlines(0, 0, 1)\n",
    "    plt.hlines(1, 0, 1)\n",
    "    plt.vlines(0, 0, 1)\n",
    "    plt.vlines(1, 0, 1)\n"
   ]
  },
  {
   "cell_type": "code",
   "execution_count": 11,
   "metadata": {},
   "outputs": [],
   "source": [
    "def plot_triang_grid(ax, coords, values):\n",
    "    x = coords[:, 0]\n",
    "    y = coords[:, 1]\n",
    "    triang = mtri.Triangulation(x, y)\n",
    "    levels = np.linspace(0.0, 5.0, 31)\n",
    "    im = ax.tricontourf(triang, values, levels=levels)  # norm=mpl.colors.Normalize(vmin=-0.5, vmax=1.5)\n",
    "    # ax.triplot(triang, 'ko-', linewidth=0.1, ms=0.5)\n",
    "    return im"
   ]
  },
  {
   "cell_type": "code",
   "execution_count": 12,
   "metadata": {},
   "outputs": [],
   "source": [
    "def plot_grid(coords):\n",
    "    x = coords[:, 0]\n",
    "    y = coords[:, 1]\n",
    "    triang = mtri.Triangulation(x, y)\n",
    "    plt.triplot(triang, 'ko-', linewidth=0.1, ms=0.5)\n",
    "    plt.savefig(\"grid.png\")\n"
   ]
  },
  {
   "cell_type": "code",
   "execution_count": 13,
   "metadata": {},
   "outputs": [],
   "source": [
    "def plot_fields(t, coords, fields, delay=0.1, save_path=None):\n",
    "    \"\"\"\n",
    "    Args:\n",
    "        t (ndarray): Time points.\n",
    "        coords (ndarray): Coordinates of nodes.\n",
    "        fields (dict): keys - field names.\n",
    "            values - ndarrays with shape (time, num_nodes, 1).\n",
    "        save_path (str): Path where plot will be saved as save_path/field_name_time.png\n",
    "    \"\"\"\n",
    "    num_fields = len(fields.keys())\n",
    "\n",
    "    fig, ax = plt.subplots(1, num_fields, figsize=(6*num_fields, 6))\n",
    "    if num_fields == 1:\n",
    "        ax = [ax]\n",
    "    else:\n",
    "        ax = ax.reshape(-1)\n",
    "\n",
    "    mappables = [\n",
    "        plot_triang_grid(\n",
    "            ax[i], coords,\n",
    "            fields[list(fields.keys())[i]][0].squeeze()) for i in range(num_fields)]\n",
    "    [fig.colorbar(im, ax=ax) for im in mappables]\n",
    "\n",
    "    plt.show(block=False)\n",
    "\n",
    "    for j, tj in enumerate(t):\n",
    "        for i, (key, field) in enumerate(fields.items()):\n",
    "            ax[i].cla()\n",
    "            mappables[i] = plot_triang_grid(ax[i], coords, field[j].squeeze())\n",
    "            ax[i].set_aspect('equal')\n",
    "            ax[i].set_title(\"Field {:s} at time {:.6f}\".format(key, tj))\n",
    "            \n",
    "        if save_path is not None:\n",
    "            plt.savefig(save_path+\"{:d}.png\".format(j))\n",
    "\n",
    "        plt.draw()\n",
    "        plt.pause(delay)"
   ]
  },
  {
   "cell_type": "code",
   "execution_count": 14,
   "metadata": {},
   "outputs": [],
   "source": [
    "import numpy as np\n",
    "from collections import namedtuple\n",
    "\n",
    "import torch\n",
    "import torch.nn as nn\n",
    "import torch.optim as optim"
   ]
  },
  {
   "cell_type": "code",
   "execution_count": 15,
   "metadata": {},
   "outputs": [],
   "source": [
    "from torchdiffeq import odeint_adjoint as odeint"
   ]
  },
  {
   "cell_type": "code",
   "execution_count": 16,
   "metadata": {},
   "outputs": [],
   "source": [
    "from torch_geometric.nn import MessagePassing\n",
    "\n",
    "\n",
    "class Model(MessagePassing):\n",
    "    def __init__(self, gamma, phi):\n",
    "        super(Model, self).__init__(aggr='mean', flow='target_to_source')\n",
    "        self.gamma = gamma\n",
    "        self.phi = phi\n",
    "\n",
    "    def forward(self, u, edge_index, rel_pos):\n",
    "        return self.propagate(edge_index, u=u, rel_pos=rel_pos)\n",
    "\n",
    "    def message(self, u_i, u_j, rel_pos):\n",
    "        phi_input = torch.cat([u_i, u_j-u_i, rel_pos], dim=1)\n",
    "        return self.phi(phi_input)\n",
    "\n",
    "    def update(self, aggr, u):\n",
    "        gamma_input = torch.cat([u, aggr], dim=1)\n",
    "        dudt = self.gamma(gamma_input)\n",
    "        return dudt"
   ]
  },
  {
   "cell_type": "code",
   "execution_count": 17,
   "metadata": {},
   "outputs": [],
   "source": [
    "class ModelDirichlet(Model):\n",
    "    def forward(self, u, edge_index, rel_pos, bcs_dict):\n",
    "        return self.propagate(edge_index, u=u, rel_pos=rel_pos, bcs_dict=bcs_dict)\n",
    "    \n",
    "    def update(self, aggr, u, bcs_dict):\n",
    "        dudt = super().update(aggr, u)\n",
    "        for bc_inds, field_inds in bcs_dict.values():\n",
    "            dudt[bc_inds, field_inds] *= 0  \n",
    "        return dudt"
   ]
  },
  {
   "cell_type": "code",
   "execution_count": 18,
   "metadata": {},
   "outputs": [],
   "source": [
    "class DynamicsFunction(nn.Module):\n",
    "    def __init__(self, model, params=None):\n",
    "        super().__init__()\n",
    "        self.model = model\n",
    "        if params is None:\n",
    "            self.params = {}\n",
    "        else:\n",
    "            self.params = params\n",
    "    \n",
    "    def forward(self, t, u):\n",
    "        return self.model(u, **self.params)\n",
    "\n",
    "    def update_params(self, params):\n",
    "        self.params.update(params)"
   ]
  },
  {
   "cell_type": "code",
   "execution_count": 19,
   "metadata": {},
   "outputs": [
    {
     "name": "stdout",
     "output_type": "stream",
     "text": [
      "Config(d=40, hs_1=60, hs_2=0, method='adaptive_heun', rtol=0.0, atol=1e-05, device='cuda', batch_size=None, lr=1e-06, epochs=200, model_path='./models/model_tmp.pth', data_path='./data/burgers/burgers_periodic_2pi_train/', tb_log_dir='./tb_logs/')\n",
      "Num. of params: 20202\n"
     ]
    }
   ],
   "source": [
    "# Can be replaced by argparse\n",
    "Config = namedtuple(\n",
    "    \"Config\", \n",
    "    [\n",
    "        \"d\", \"hs_1\", \"hs_2\", \"method\", \"rtol\", \n",
    "        \"atol\", \"device\", \"batch_size\", \"lr\", \n",
    "        \"epochs\", \"model_path\", \"data_path\",\n",
    "        \"tb_log_dir\",\n",
    "    ]\n",
    ")\n",
    "\n",
    "args = Config(\n",
    "    d=40,  # 40\n",
    "    hs_1=60,  # 60\n",
    "    hs_2=0,\n",
    "    method=\"adaptive_heun\",  # adams\n",
    "    rtol=0.0,\n",
    "    atol=1.0e-5,\n",
    "    device=\"cuda\",\n",
    "    batch_size=None,  # Use None for full batch\n",
    "    lr=0.000001,\n",
    "    epochs=200,\n",
    "    model_path=\"./models/model_tmp.pth\",\n",
    "    data_path=\"./data/burgers/burgers_periodic_2pi_train/\",\n",
    "    tb_log_dir=\"./tb_logs/\",\n",
    ")\n",
    "\n",
    "print(args)\n",
    "device = torch.device(args.device)\n",
    "# writer = SummaryWriter(log_dir=args.tb_log_dir)\n",
    "\n",
    "# Create model\n",
    "msg_net = nn.Sequential(\n",
    "    nn.Linear(6, args.hs_1), nn.Tanh(), \n",
    "    nn.Linear(args.hs_1, args.hs_1), nn.Tanh(), \n",
    "    nn.Linear(args.hs_1, args.hs_1), nn.Tanh(), \n",
    "    nn.Linear(args.hs_1, args.d)\n",
    ")\n",
    "aggr_net = nn.Sequential(\n",
    "    nn.Linear(args.d+2, args.hs_1), nn.Tanh(), \n",
    "    nn.Linear(args.hs_1, args.hs_1), nn.Tanh(), \n",
    "    nn.Linear(args.hs_1, args.hs_1), nn.Tanh(), \n",
    "    nn.Linear(args.hs_1, 2)\n",
    ")\n",
    "\n",
    "model = Model(aggr_net, msg_net)\n",
    "model.apply(weights_init)\n",
    "F = DynamicsFunction(model).to(device)\n",
    "# F.load_state_dict(torch.load(\"./model_tmp_pretr_10.pth\", map_location=device))\n",
    "\n",
    "print(\"Num. of params: {:d}\".format(get_parameters_count(model)))\n"
   ]
  },
  {
   "cell_type": "code",
   "execution_count": 20,
   "metadata": {},
   "outputs": [
    {
     "name": "stdout",
     "output_type": "stream",
     "text": [
      "1 / 8\n"
     ]
    },
    {
     "name": "stderr",
     "output_type": "stream",
     "text": [
      "/home/wangyaohong/.conda/envs/pytorch1.6/lib/python3.7/site-packages/ipykernel_launcher.py:63: DeprecationWarning: `np.object` is a deprecated alias for the builtin `object`. To silence this warning, use `object` by itself. Doing this will not modify any behavior and is safe. \n",
      "Deprecated in NumPy 1.20; for more details and guidance: https://numpy.org/devdocs/release/1.20.0-notes.html#deprecations\n"
     ]
    },
    {
     "name": "stdout",
     "output_type": "stream",
     "text": [
      "generate_torchgeom_dataset() -> using None steps.\n",
      "2 / 8\n",
      "generate_torchgeom_dataset() -> using None steps.\n",
      "3 / 8\n",
      "generate_torchgeom_dataset() -> using None steps.\n",
      "4 / 8\n",
      "generate_torchgeom_dataset() -> using None steps.\n",
      "5 / 8\n",
      "generate_torchgeom_dataset() -> using None steps.\n",
      "6 / 8\n",
      "generate_torchgeom_dataset() -> using None steps.\n",
      "7 / 8\n",
      "generate_torchgeom_dataset() -> using None steps.\n",
      "8 / 8\n",
      "generate_torchgeom_dataset() -> using None steps.\n",
      "[Data(x=[5266, 2], edge_index=[2, 31596], y=[5266, 21, 2], pos=[5266, 2], t=[21]), Data(x=[5266, 2], edge_index=[2, 31596], y=[5266, 21, 2], pos=[5266, 2], t=[21]), Data(x=[5266, 2], edge_index=[2, 31596], y=[5266, 21, 2], pos=[5266, 2], t=[21]), Data(x=[5266, 2], edge_index=[2, 31596], y=[5266, 21, 2], pos=[5266, 2], t=[21]), Data(x=[5266, 2], edge_index=[2, 31596], y=[5266, 21, 2], pos=[5266, 2], t=[21]), Data(x=[5266, 2], edge_index=[2, 31596], y=[5266, 21, 2], pos=[5266, 2], t=[21]), Data(x=[5266, 2], edge_index=[2, 31596], y=[5266, 21, 2], pos=[5266, 2], t=[21]), Data(x=[5266, 2], edge_index=[2, 31596], y=[5266, 21, 2], pos=[5266, 2], t=[21])]\n"
     ]
    }
   ],
   "source": [
    "data = read_pickle(['t', 'x', 'u'], args.data_path)\n",
    "dataset = generate_torchgeom_dataset(data)\n",
    "if args.batch_size is None:\n",
    "    batch_size = len(dataset)\n",
    "else:\n",
    "    batch_size = args.batch_size\n",
    "\n",
    "print(dataset)"
   ]
  },
  {
   "cell_type": "code",
   "execution_count": 21,
   "metadata": {},
   "outputs": [],
   "source": [
    "from torch_geometric.data import DataLoader\n"
   ]
  },
  {
   "cell_type": "code",
   "execution_count": 22,
   "metadata": {},
   "outputs": [
    {
     "name": "stderr",
     "output_type": "stream",
     "text": [
      "/home/wangyaohong/.conda/envs/pytorch1.6/lib/python3.7/site-packages/torch_geometric/deprecation.py:13: UserWarning: 'data.DataLoader' is deprecated, use 'loader.DataLoader' instead\n",
      "  warnings.warn(out)\n"
     ]
    }
   ],
   "source": [
    "loader = DataLoader(dataset, batch_size=batch_size, shuffle=True)\n",
    "\n",
    "optimizer = optim.Rprop(F.parameters(), lr=args.lr, step_sizes=(1e-8, 10.))\n",
    "loss_fn = nn.MSELoss()\n"
   ]
  },
  {
   "cell_type": "code",
   "execution_count": 23,
   "metadata": {},
   "outputs": [
    {
     "name": "stdout",
     "output_type": "stream",
     "text": [
      "tensor([0.0000, 0.0400, 0.0800, 0.1200, 0.1600, 0.2000, 0.2400, 0.2800, 0.3200,\n",
      "        0.3600, 0.4000, 0.4400, 0.4800, 0.5200, 0.5600, 0.6000, 0.6400, 0.6800,\n",
      "        0.7200, 0.7600, 0.8000])\n"
     ]
    },
    {
     "name": "stderr",
     "output_type": "stream",
     "text": [
      "/home/wangyaohong/.conda/envs/pytorch1.6/lib/python3.7/site-packages/torchdiffeq/_impl/misc.py:326: UserWarning: torch.nextafter is only available in PyTorch 1.7 or newer.Falling back to numpy.nextafter. Upgrade PyTorch to remove this warning.\n",
      "  warnings.warn(\"torch.nextafter is only available in PyTorch 1.7 or newer.\"\n"
     ]
    },
    {
     "name": "stdout",
     "output_type": "stream",
     "text": [
      "epoch     0 | train loss: 0.782786607742\n",
      "epoch    10 | train loss: 0.772524297237\n",
      "epoch    20 | train loss: 0.711356639862\n",
      "epoch    30 | train loss: 0.443260878325\n",
      "epoch    40 | train loss: 0.303548812866\n",
      "epoch    50 | train loss: 0.282309770584\n",
      "epoch    60 | train loss: 0.258526653051\n",
      "epoch    70 | train loss: 0.189707487822\n",
      "epoch    80 | train loss: 0.092403016984\n",
      "epoch    90 | train loss: 0.061391919851\n",
      "epoch   100 | train loss: 0.046400602907\n",
      "epoch   110 | train loss: 0.037789337337\n",
      "epoch   120 | train loss: 0.030376924202\n",
      "epoch   130 | train loss: 0.025047976524\n",
      "epoch   140 | train loss: 0.020711798221\n",
      "epoch   150 | train loss: 0.017782911658\n",
      "epoch   160 | train loss: 0.015480967239\n",
      "epoch   170 | train loss: 0.013665401377\n",
      "epoch   180 | train loss: 0.012291011401\n",
      "epoch   190 | train loss: 0.011028414592\n",
      "epoch   199 | train loss: 0.010093293153\n"
     ]
    }
   ],
   "source": [
    "# Training\n",
    "ts = dataset[0].t.shape[0]  # assumes the same time grid for all sim-s.\n",
    "print(dataset[0].t)\n",
    "\n",
    "for epoch in range(args.epochs):\n",
    "    losses = torch.zeros(len(loader))\n",
    "    \n",
    "    for i, dp in enumerate(loader):\n",
    "        optimizer.zero_grad()\n",
    "\n",
    "        edge_index = dp.edge_index\n",
    "        pos = dp.pos\n",
    "        with torch.no_grad():\n",
    "            rel_pos = pos[edge_index[1]] - pos[edge_index[0]]\n",
    "        params_dict = {'edge_index': edge_index.to(device), 'rel_pos': rel_pos.to(device)}\n",
    "        F.update_params(params_dict)\n",
    "\n",
    "        options = {\n",
    "            'dtype': torch.float64,\n",
    "            # 'first_step': 1.0e-9,\n",
    "            # 'grid_points': t,\n",
    "        }\n",
    "\n",
    "        adjoint_options = {\n",
    "            'norm': \"seminorm\"\n",
    "        }\n",
    "\n",
    "        y0 = dp.x.to(device)\n",
    "        t = dp.t[0:ts].to(device)\n",
    "        y_pd = odeint(\n",
    "            F, y0, t, method=args.method, \n",
    "            rtol=args.rtol, atol=args.atol,\n",
    "            options=options,\n",
    "            adjoint_options=adjoint_options,\n",
    "        )\n",
    "        y_gt = dp.y.transpose(0, 1).to(device)\n",
    "\n",
    "        loss = loss_fn(y_pd, y_gt.to(device))\n",
    "        loss.backward()\n",
    "        optimizer.step()\n",
    "\n",
    "        losses[i] = loss.item()\n",
    "        \n",
    "    # writer.add_scalar(\"train_loss/\"+str(args), losses.mean(), epoch)\n",
    "    \n",
    "    if epoch % 10 == 0 or epoch == args.epochs - 1:\n",
    "        print(\"epoch {:>5d} | train loss: {:>7.12f}\".format(epoch, losses.mean()))\n",
    "        torch.save(F.state_dict(), args.model_path)"
   ]
  },
  {
   "cell_type": "code",
   "execution_count": 31,
   "metadata": {},
   "outputs": [
    {
     "name": "stdout",
     "output_type": "stream",
     "text": [
      "1 / 10\n"
     ]
    },
    {
     "name": "stderr",
     "output_type": "stream",
     "text": [
      "/home/wangyaohong/.conda/envs/pytorch1.6/lib/python3.7/site-packages/ipykernel_launcher.py:63: DeprecationWarning: `np.object` is a deprecated alias for the builtin `object`. To silence this warning, use `object` by itself. Doing this will not modify any behavior and is safe. \n",
      "Deprecated in NumPy 1.20; for more details and guidance: https://numpy.org/devdocs/release/1.20.0-notes.html#deprecations\n"
     ]
    },
    {
     "name": "stdout",
     "output_type": "stream",
     "text": [
      "generate_torchgeom_dataset() -> using None steps.\n",
      "2 / 10\n",
      "generate_torchgeom_dataset() -> using None steps.\n",
      "3 / 10\n",
      "generate_torchgeom_dataset() -> using None steps.\n",
      "4 / 10\n",
      "generate_torchgeom_dataset() -> using None steps.\n",
      "5 / 10\n",
      "generate_torchgeom_dataset() -> using None steps.\n",
      "6 / 10\n",
      "generate_torchgeom_dataset() -> using None steps.\n",
      "7 / 10\n",
      "generate_torchgeom_dataset() -> using None steps.\n",
      "8 / 10\n",
      "generate_torchgeom_dataset() -> using None steps.\n",
      "9 / 10\n",
      "generate_torchgeom_dataset() -> using None steps.\n",
      "10 / 10\n",
      "generate_torchgeom_dataset() -> using None steps.\n",
      "test case     0 | test loss: 0.029582636431\n",
      "Plotting...\n"
     ]
    },
    {
     "data": {
      "text/plain": [
       "<Figure size 432x288 with 0 Axes>"
      ]
     },
     "metadata": {},
     "output_type": "display_data"
    },
    {
     "data": {
      "image/png": "[encoded data removed]",
      "text/plain": [
       "<Figure size 864x432 with 4 Axes>"
      ]
     },
     "metadata": {
      "needs_background": "light"
     },
     "output_type": "display_data"
    },
    {
     "data": {
      "text/plain": [
       "<Figure size 432x288 with 0 Axes>"
      ]
     },
     "metadata": {},
     "output_type": "display_data"
    },
    {
     "data": {
      "text/plain": [
       "<Figure size 432x288 with 0 Axes>"
      ]
     },
     "metadata": {},
     "output_type": "display_data"
    },
    {
     "data": {
      "text/plain": [
       "<Figure size 432x288 with 0 Axes>"
      ]
     },
     "metadata": {},
     "output_type": "display_data"
    },
    {
     "data": {
      "text/plain": [
       "<Figure size 432x288 with 0 Axes>"
      ]
     },
     "metadata": {},
     "output_type": "display_data"
    },
    {
     "data": {
      "text/plain": [
       "<Figure size 432x288 with 0 Axes>"
      ]
     },
     "metadata": {},
     "output_type": "display_data"
    },
    {
     "data": {
      "text/plain": [
       "<Figure size 432x288 with 0 Axes>"
      ]
     },
     "metadata": {},
     "output_type": "display_data"
    },
    {
     "data": {
      "text/plain": [
       "<Figure size 432x288 with 0 Axes>"
      ]
     },
     "metadata": {},
     "output_type": "display_data"
    },
    {
     "data": {
      "text/plain": [
       "<Figure size 432x288 with 0 Axes>"
      ]
     },
     "metadata": {},
     "output_type": "display_data"
    },
    {
     "data": {
      "text/plain": [
       "<Figure size 432x288 with 0 Axes>"
      ]
     },
     "metadata": {},
     "output_type": "display_data"
    },
    {
     "data": {
      "text/plain": [
       "<Figure size 432x288 with 0 Axes>"
      ]
     },
     "metadata": {},
     "output_type": "display_data"
    },
    {
     "data": {
      "text/plain": [
       "<Figure size 432x288 with 0 Axes>"
      ]
     },
     "metadata": {},
     "output_type": "display_data"
    },
    {
     "data": {
      "text/plain": [
       "<Figure size 432x288 with 0 Axes>"
      ]
     },
     "metadata": {},
     "output_type": "display_data"
    },
    {
     "data": {
      "text/plain": [
       "<Figure size 432x288 with 0 Axes>"
      ]
     },
     "metadata": {},
     "output_type": "display_data"
    },
    {
     "data": {
      "text/plain": [
       "<Figure size 432x288 with 0 Axes>"
      ]
     },
     "metadata": {},
     "output_type": "display_data"
    },
    {
     "data": {
      "text/plain": [
       "<Figure size 432x288 with 0 Axes>"
      ]
     },
     "metadata": {},
     "output_type": "display_data"
    },
    {
     "data": {
      "text/plain": [
       "<Figure size 432x288 with 0 Axes>"
      ]
     },
     "metadata": {},
     "output_type": "display_data"
    },
    {
     "data": {
      "text/plain": [
       "<Figure size 432x288 with 0 Axes>"
      ]
     },
     "metadata": {},
     "output_type": "display_data"
    },
    {
     "data": {
      "text/plain": [
       "<Figure size 432x288 with 0 Axes>"
      ]
     },
     "metadata": {},
     "output_type": "display_data"
    },
    {
     "data": {
      "text/plain": [
       "<Figure size 432x288 with 0 Axes>"
      ]
     },
     "metadata": {},
     "output_type": "display_data"
    },
    {
     "data": {
      "text/plain": [
       "<Figure size 432x288 with 0 Axes>"
      ]
     },
     "metadata": {},
     "output_type": "display_data"
    },
    {
     "data": {
      "text/plain": [
       "<Figure size 432x288 with 0 Axes>"
      ]
     },
     "metadata": {},
     "output_type": "display_data"
    },
    {
     "data": {
      "text/plain": [
       "<Figure size 432x288 with 0 Axes>"
      ]
     },
     "metadata": {},
     "output_type": "display_data"
    },
    {
     "data": {
      "text/plain": [
       "<Figure size 432x288 with 0 Axes>"
      ]
     },
     "metadata": {},
     "output_type": "display_data"
    },
    {
     "data": {
      "text/plain": [
       "<Figure size 432x288 with 0 Axes>"
      ]
     },
     "metadata": {},
     "output_type": "display_data"
    },
    {
     "data": {
      "text/plain": [
       "<Figure size 432x288 with 0 Axes>"
      ]
     },
     "metadata": {},
     "output_type": "display_data"
    },
    {
     "data": {
      "text/plain": [
       "<Figure size 432x288 with 0 Axes>"
      ]
     },
     "metadata": {},
     "output_type": "display_data"
    },
    {
     "data": {
      "text/plain": [
       "<Figure size 432x288 with 0 Axes>"
      ]
     },
     "metadata": {},
     "output_type": "display_data"
    },
    {
     "data": {
      "text/plain": [
       "<Figure size 432x288 with 0 Axes>"
      ]
     },
     "metadata": {},
     "output_type": "display_data"
    },
    {
     "data": {
      "text/plain": [
       "<Figure size 432x288 with 0 Axes>"
      ]
     },
     "metadata": {},
     "output_type": "display_data"
    },
    {
     "data": {
      "text/plain": [
       "<Figure size 432x288 with 0 Axes>"
      ]
     },
     "metadata": {},
     "output_type": "display_data"
    },
    {
     "data": {
      "text/plain": [
       "<Figure size 432x288 with 0 Axes>"
      ]
     },
     "metadata": {},
     "output_type": "display_data"
    },
    {
     "data": {
      "text/plain": [
       "<Figure size 432x288 with 0 Axes>"
      ]
     },
     "metadata": {},
     "output_type": "display_data"
    },
    {
     "data": {
      "text/plain": [
       "<Figure size 432x288 with 0 Axes>"
      ]
     },
     "metadata": {},
     "output_type": "display_data"
    },
    {
     "data": {
      "text/plain": [
       "<Figure size 432x288 with 0 Axes>"
      ]
     },
     "metadata": {},
     "output_type": "display_data"
    },
    {
     "data": {
      "text/plain": [
       "<Figure size 432x288 with 0 Axes>"
      ]
     },
     "metadata": {},
     "output_type": "display_data"
    },
    {
     "data": {
      "text/plain": [
       "<Figure size 432x288 with 0 Axes>"
      ]
     },
     "metadata": {},
     "output_type": "display_data"
    },
    {
     "data": {
      "text/plain": [
       "<Figure size 432x288 with 0 Axes>"
      ]
     },
     "metadata": {},
     "output_type": "display_data"
    },
    {
     "data": {
      "text/plain": [
       "<Figure size 432x288 with 0 Axes>"
      ]
     },
     "metadata": {},
     "output_type": "display_data"
    },
    {
     "data": {
      "text/plain": [
       "<Figure size 432x288 with 0 Axes>"
      ]
     },
     "metadata": {},
     "output_type": "display_data"
    },
    {
     "data": {
      "text/plain": [
       "<Figure size 432x288 with 0 Axes>"
      ]
     },
     "metadata": {},
     "output_type": "display_data"
    },
    {
     "data": {
      "text/plain": [
       "<Figure size 432x288 with 0 Axes>"
      ]
     },
     "metadata": {},
     "output_type": "display_data"
    },
    {
     "data": {
      "text/plain": [
       "<Figure size 432x288 with 0 Axes>"
      ]
     },
     "metadata": {},
     "output_type": "display_data"
    },
    {
     "data": {
      "text/plain": [
       "<Figure size 432x288 with 0 Axes>"
      ]
     },
     "metadata": {},
     "output_type": "display_data"
    },
    {
     "data": {
      "text/plain": [
       "<Figure size 432x288 with 0 Axes>"
      ]
     },
     "metadata": {},
     "output_type": "display_data"
    },
    {
     "data": {
      "text/plain": [
       "<Figure size 432x288 with 0 Axes>"
      ]
     },
     "metadata": {},
     "output_type": "display_data"
    },
    {
     "data": {
      "text/plain": [
       "<Figure size 432x288 with 0 Axes>"
      ]
     },
     "metadata": {},
     "output_type": "display_data"
    },
    {
     "data": {
      "text/plain": [
       "<Figure size 432x288 with 0 Axes>"
      ]
     },
     "metadata": {},
     "output_type": "display_data"
    },
    {
     "data": {
      "text/plain": [
       "<Figure size 432x288 with 0 Axes>"
      ]
     },
     "metadata": {},
     "output_type": "display_data"
    },
    {
     "data": {
      "text/plain": [
       "<Figure size 432x288 with 0 Axes>"
      ]
     },
     "metadata": {},
     "output_type": "display_data"
    },
    {
     "data": {
      "text/plain": [
       "<Figure size 432x288 with 0 Axes>"
      ]
     },
     "metadata": {},
     "output_type": "display_data"
    },
    {
     "data": {
      "text/plain": [
       "<Figure size 432x288 with 0 Axes>"
      ]
     },
     "metadata": {},
     "output_type": "display_data"
    },
    {
     "data": {
      "text/plain": [
       "<Figure size 432x288 with 0 Axes>"
      ]
     },
     "metadata": {},
     "output_type": "display_data"
    },
    {
     "data": {
      "text/plain": [
       "<Figure size 432x288 with 0 Axes>"
      ]
     },
     "metadata": {},
     "output_type": "display_data"
    },
    {
     "data": {
      "text/plain": [
       "<Figure size 432x288 with 0 Axes>"
      ]
     },
     "metadata": {},
     "output_type": "display_data"
    },
    {
     "data": {
      "text/plain": [
       "<Figure size 432x288 with 0 Axes>"
      ]
     },
     "metadata": {},
     "output_type": "display_data"
    },
    {
     "data": {
      "text/plain": [
       "<Figure size 432x288 with 0 Axes>"
      ]
     },
     "metadata": {},
     "output_type": "display_data"
    },
    {
     "data": {
      "text/plain": [
       "<Figure size 432x288 with 0 Axes>"
      ]
     },
     "metadata": {},
     "output_type": "display_data"
    },
    {
     "data": {
      "text/plain": [
       "<Figure size 432x288 with 0 Axes>"
      ]
     },
     "metadata": {},
     "output_type": "display_data"
    },
    {
     "data": {
      "text/plain": [
       "<Figure size 432x288 with 0 Axes>"
      ]
     },
     "metadata": {},
     "output_type": "display_data"
    },
    {
     "data": {
      "text/plain": [
       "<Figure size 432x288 with 0 Axes>"
      ]
     },
     "metadata": {},
     "output_type": "display_data"
    },
    {
     "data": {
      "text/plain": [
       "<Figure size 432x288 with 0 Axes>"
      ]
     },
     "metadata": {},
     "output_type": "display_data"
    },
    {
     "name": "stdout",
     "output_type": "stream",
     "text": [
      "test case     1 | test loss: 0.037296190858\n",
      "test case     2 | test loss: 0.023624718189\n",
      "test case     3 | test loss: 0.029065230861\n",
      "test case     4 | test loss: 0.038047935814\n",
      "test case     5 | test loss: 0.022278245538\n",
      "test case     6 | test loss: 0.037421971560\n",
      "test case     7 | test loss: 0.032148726285\n",
      "test case     8 | test loss: 0.018395436928\n",
      "test case     9 | test loss: 0.020301716402\n"
     ]
    }
   ],
   "source": [
    "import matplotlib.pyplot as plt\n",
    "import matplotlib.tri as mtri\n",
    "Config = namedtuple(\n",
    "    \"Config\", \n",
    "    [\n",
    "        \"d\", \"hs_1\", \"hs_2\", \"method\", \"rtol\", \n",
    "        \"atol\", \"device\", \"model_path\", \"data_path\"\n",
    "    ]\n",
    ")\n",
    "\n",
    "args = Config(\n",
    "    d=40,\n",
    "    hs_1=60,\n",
    "    hs_2=0,\n",
    "    method=\"adaptive_heun\",  # adams\n",
    "    rtol=0.0,\n",
    "    atol=1.0e-5,  # 1.0e-7\n",
    "    device=\"cuda\",\n",
    "    model_path=\"./models/model_tmp.pth\",\n",
    "    data_path=\"./data/burgers/burgers_periodic_2pi_test/\",\n",
    ")\n",
    "\n",
    "device = torch.device(args.device)\n",
    "\n",
    "msg_net = nn.Sequential(\n",
    "    nn.Linear(6, args.hs_1), nn.Tanh(), \n",
    "    nn.Linear(args.hs_1, args.hs_1), nn.Tanh(), \n",
    "    nn.Linear(args.hs_1, args.hs_1), nn.Tanh(), \n",
    "    nn.Linear(args.hs_1, args.d)\n",
    ")\n",
    "aggr_net = nn.Sequential(\n",
    "    nn.Linear(args.d+2, args.hs_1), nn.Tanh(), \n",
    "    nn.Linear(args.hs_1, args.hs_1), nn.Tanh(), \n",
    "    nn.Linear(args.hs_1, args.hs_1), nn.Tanh(), \n",
    "    nn.Linear(args.hs_1, 2)\n",
    ")\n",
    "\n",
    "model = Model(aggr_net, msg_net)\n",
    "F = DynamicsFunction(model).to(device)\n",
    "F.load_state_dict(torch.load(args.model_path, map_location=device))\n",
    "\n",
    "data = read_pickle(['t', 'x', 'u'], args.data_path)\n",
    "dataset = generate_torchgeom_dataset(data)\n",
    "loader = DataLoader(dataset, batch_size=1, shuffle=False)\n",
    "\n",
    "# Loss\n",
    "loss_fn = nn.MSELoss()\n",
    "\n",
    "# Testing\n",
    "diffs_over_time = []\n",
    "losses = torch.zeros(len(loader))\n",
    "\n",
    "inds_of_sims_to_show = set([0])\n",
    "\n",
    "with torch.no_grad():\n",
    "    for i, dp in enumerate(loader):\n",
    "        edge_index = dp.edge_index\n",
    "        pos = dp.pos\n",
    "        rel_pos = pos[edge_index[1]] - pos[edge_index[0]]\n",
    "        params_dict = {'edge_index': edge_index.to(device), 'rel_pos': rel_pos.to(device)}\n",
    "        F.update_params(params_dict)\n",
    "\n",
    "        y0 = dp.x.to(device)\n",
    "        t = dp.t.to(device)\n",
    "        y_pd = odeint(\n",
    "            F, y0, t, \n",
    "            method=args.method, \n",
    "            rtol=args.rtol, atol=args.atol,\n",
    "            options={'dtype': torch.float64})\n",
    "        y_gt = dp.y.transpose(0, 1).to(device)\n",
    "        \n",
    "        loss = loss_fn(y_pd, y_gt)\n",
    "        losses[i] = loss.item()\n",
    "\n",
    "        u = ((y_gt.cpu().detach().numpy()**2).sum(axis=2))**0.5\n",
    "        u_pd = ((y_pd.cpu().detach().numpy()**2).sum(axis=2))**0.5\n",
    "        u_mean = u.mean(axis=1).reshape(-1)\n",
    "        \n",
    "        eps = 1.0e-6\n",
    "        diffs = [np.linalg.norm(u[i].reshape(-1) - u_pd[i].reshape(-1)) / (np.linalg.norm(u[i].reshape(-1)) + eps) for i in range(len(u))]\n",
    "        diffs_over_time.append(diffs)\n",
    "\n",
    "        print(\"test case {:>5d} | test loss: {:>7.12f}\".format(i, losses[i]))\n",
    "\n",
    "        if i in inds_of_sims_to_show:\n",
    "            print(\"Plotting...\")\n",
    "            # utils.plot_grid(dataset[i].pos.cpu().detach().numpy())\n",
    "            plt.figure(0)\n",
    "            plot_fields(\n",
    "                t=dataset[i].t,\n",
    "                coords=dataset[i].pos,\n",
    "                fields={\n",
    "                    \"y_pd\": u_pd,\n",
    "                    \"y_gt\": u,\n",
    "                },\n",
    "                save_path=\"tmp_figs/\",\n",
    "                delay=0.0001,\n",
    "            )\n",
    "            plt.show()\n",
    "\n",
    "        # if i == 2:\n",
    "        #     break\n"
   ]
  },
  {
   "cell_type": "code",
   "execution_count": 32,
   "metadata": {},
   "outputs": [
    {
     "name": "stdout",
     "output_type": "stream",
     "text": [
      "Plotting diffs...\n",
      "diffs_over_time.shape (10, 61)\n",
      "diffs_over_time.mean 0.18211936739035303\n",
      "diffs_over_time.mean [0.         0.02948872 0.04504721 0.05713656 0.06714902 0.07580341\n",
      " 0.08349071 0.09060813 0.09740376 0.10385845 0.10988704 0.115574\n",
      " 0.12091552 0.12603613 0.1308883  0.1356169  0.14024521 0.14455871\n",
      " 0.1484409  0.15206642 0.15536102 0.15846078 0.1615058  0.16460554\n",
      " 0.16774679 0.17091575 0.17411953 0.1773679  0.18071633 0.18418306\n",
      " 0.18774338 0.19138216 0.19506786 0.19876976 0.20248184 0.20620669\n",
      " 0.20991203 0.21356497 0.21719862 0.2207914  0.22434766 0.22788684\n",
      " 0.23139633 0.23485356 0.23823952 0.24154279 0.24476068 0.24788527\n",
      " 0.25094276 0.25397529 0.25700744 0.26006469 0.26316243 0.26629748\n",
      " 0.26946918 0.27267191 0.27590802 0.27917684 0.28247702 0.28579248\n",
      " 0.28910689]\n"
     ]
    },
    {
     "data": {
      "image/png": "[encoded data removed]",
      "text/plain": [
       "<Figure size 432x288 with 1 Axes>"
      ]
     },
     "metadata": {
      "needs_background": "light"
     },
     "output_type": "display_data"
    }
   ],
   "source": [
    "print(\"Plotting diffs...\")\n",
    "plt.figure(0)\n",
    "t = dataset[0].t.numpy()\n",
    "\n",
    "for diff in diffs_over_time:\n",
    "    plt.plot(t, diff, alpha=0.5)\n",
    "\n",
    "plt.plot(t, np.mean(diffs_over_time, axis=0), '--k')\n",
    "\n",
    "plt.ylabel(\"Rel. diff.\")\n",
    "plt.xlabel(\"t (sec)\")\n",
    "\n",
    "# plt.show()\n",
    "plt.savefig(\"diffs.png\")\n",
    "\n",
    "diffs_over_time = np.array(diffs_over_time)\n",
    "print(\"diffs_over_time.shape\", diffs_over_time.shape)\n",
    "print(\"diffs_over_time.mean\", diffs_over_time.mean())\n",
    "print(\"diffs_over_time.mean\", diffs_over_time.mean(axis=0))"
   ]
  },
  {
   "cell_type": "code",
   "execution_count": null,
   "metadata": {},
   "outputs": [],
   "source": []
  }
 ],
 "metadata": {
  "kernelspec": {
   "display_name": "pytorch1.6",
   "language": "python",
   "name": "pytorch1.6"
  },
  "language_info": {
   "codemirror_mode": {
    "name": "ipython",
    "version": 3
   },
   "file_extension": ".py",
   "mimetype": "text/x-python",
   "name": "python",
   "nbconvert_exporter": "python",
   "pygments_lexer": "ipython3",
   "version": "3.7.11"
  }
 },
 "nbformat": 4,
 "nbformat_minor": 2
}
